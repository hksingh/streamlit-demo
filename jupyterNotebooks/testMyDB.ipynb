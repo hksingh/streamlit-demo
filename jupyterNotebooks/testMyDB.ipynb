{
 "cells": [
  {
   "cell_type": "code",
   "execution_count": 4,
   "id": "8671bcc0",
   "metadata": {},
   "outputs": [],
   "source": [
    "from deta import Deta"
   ]
  },
  {
   "cell_type": "code",
   "execution_count": 20,
   "id": "8c4418a3",
   "metadata": {},
   "outputs": [],
   "source": [
    "DETA_KEY = \"b0nqz419_JTjja4Xy6oVaUKn4yy53N76QJvAyMUGf\"\n",
    "\n",
    "def getDB(dbType):\n",
    "    deta = Deta(DETA_KEY)\n",
    "    db = deta.Base(dbType)\n",
    "    return db\n",
    "\n"
   ]
  },
  {
   "cell_type": "code",
   "execution_count": 12,
   "id": "b8e031a2",
   "metadata": {},
   "outputs": [],
   "source": [
    "def insert_goalType(dbType, userDetails):\n",
    "    db = getDB(dbType)\n",
    "    return db.put({\"detail\": userDetails})\n"
   ]
  },
  {
   "cell_type": "code",
   "execution_count": 21,
   "id": "19b0d23d",
   "metadata": {},
   "outputs": [],
   "source": [
    "\n",
    "def fetch_goalType(dbType):\n",
    "    db = getDB(dbType)\n",
    "    res = db.fetch()\n",
    "    return res.items"
   ]
  },
  {
   "cell_type": "code",
   "execution_count": 46,
   "id": "c48c4710",
   "metadata": {},
   "outputs": [
    {
     "name": "stdout",
     "output_type": "stream",
     "text": [
      "{'goalType': {'detail': 'Everyday study for 3 hours of AZ-104', 'goalType': 'i6f1624g9anh', 'totalCount': 5}, 'key': 'jp0u7wxeh96x'}\n"
     ]
    }
   ],
   "source": [
    "data = {\n",
    "\t\t\t\"goalType\": \"i6f1624g9anh\",\n",
    "\t\t\t\"detail\": \"Everyday study for 3 hours of AZ-104\",\n",
    "\t\t\t\"totalCount\": 5\n",
    "\t\t}\n",
    "\n",
    "insert_goalType('goalDetail', data )\n",
    "values = fetch_goalType('goalDetail')\n",
    "for i in values:\n",
    "    print(i)"
   ]
  },
  {
   "cell_type": "code",
   "execution_count": 42,
   "id": "7035be6e",
   "metadata": {},
   "outputs": [
    {
     "name": "stdout",
     "output_type": "stream",
     "text": [
      "<class 'list'>\n",
      "581kpnu7330p {'goalType': 'WeightLoss', 'key': '581kpnu7330p'}\n",
      "Everyday make sure you eat wisely and less\n",
      "<class 'list'>\n",
      "i6f1624g9anh {'goalType': 'Study for AZ-104', 'key': 'i6f1624g9anh'}\n",
      "Everyday study for 3 hours of AZ-104\n",
      "<class 'list'>\n",
      "xq1dnrl7zila {'goalType': 'Interview Preparation', 'key': 'xq1dnrl7zila'}\n",
      "Study one hour dedicated to job find or interview preparation\n"
     ]
    }
   ],
   "source": [
    "items = fetch_goalType('goalTypeList')\n",
    "values = fetch_goalType('goalDetail')\n",
    "for item in items:\n",
    "    keyvalue= item['key']hg   \n",
    "    populated = [x for x in values if x['goalType']['goalType'] == keyvalue]  \n",
    "    print(keyvalue, item)\n",
    "    for i in populated:\n",
    "        print(i['goalType']['detail'])\n",
    "       "
   ]
  },
  {
   "cell_type": "code",
   "execution_count": 10,
   "id": "fe862587",
   "metadata": {},
   "outputs": [],
   "source": [
    "DETA_KEY = \"b0nqz419_JTjja4Xy6oVaUKn4yy53N76QJvAyMUGf\"\n",
    "\n",
    "def getDB12():\n",
    "    deta = Deta(DETA_KEY)\n",
    "    db = deta.Base(\"monthly_reports\")\n",
    "    return db\n",
    "\n",
    "def insert_user(userDetails):\n",
    "    db = getDB12()\n",
    "    return db.put({\"userDetails\": userDetails})\n",
    "\n",
    "def fetch_user():\n",
    "    db = getDB12()\n",
    "    res = db.fetch()\n",
    "    return res.items"
   ]
  },
  {
   "cell_type": "code",
   "execution_count": 8,
   "id": "f5f98763",
   "metadata": {},
   "outputs": [
    {
     "name": "stdout",
     "output_type": "stream",
     "text": [
      "[{'key': '9iskaz1de06p', 'userDetails': {'address': [{'city': 'PGH', 'first': '607 chilliwack ln'}, {'city': 'PGH1', 'first': '2534'}], 'name': 'hemant'}}]\n"
     ]
    }
   ],
   "source": [
    "data = fetch_user()\n",
    "print(data)"
   ]
  },
  {
   "cell_type": "code",
   "execution_count": 7,
   "id": "ec393c23",
   "metadata": {},
   "outputs": [
    {
     "data": {
      "text/plain": [
       "{'key': '9iskaz1de06p',\n",
       " 'userDetails': {'address': [{'city': 'PGH', 'first': '607 chilliwack ln'},\n",
       "   {'city': 'PGH1', 'first': '2534'}],\n",
       "  'name': 'hemant'}}"
      ]
     },
     "execution_count": 7,
     "metadata": {},
     "output_type": "execute_result"
    }
   ],
   "source": [
    "user_details = {\"name\": \"hemant\", \"address\": [{\"first\": \"607 chilliwack ln\", \"city\": \"PGH\"}, {\"first\": \"2534\", \"city\": \"PGH1\"}]}\n",
    "insert_user(user_details)"
   ]
  },
  {
   "cell_type": "code",
   "execution_count": null,
   "id": "58c60418",
   "metadata": {},
   "outputs": [],
   "source": []
  }
 ],
 "metadata": {
  "kernelspec": {
   "display_name": "Python 3 (ipykernel)",
   "language": "python",
   "name": "python3"
  },
  "language_info": {
   "codemirror_mode": {
    "name": "ipython",
    "version": 3
   },
   "file_extension": ".py",
   "mimetype": "text/x-python",
   "name": "python",
   "nbconvert_exporter": "python",
   "pygments_lexer": "ipython3",
   "version": "3.10.5"
  }
 },
 "nbformat": 4,
 "nbformat_minor": 5
}
